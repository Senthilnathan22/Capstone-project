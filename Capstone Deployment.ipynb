{
 "cells": [
  {
   "cell_type": "code",
   "execution_count": 1,
   "id": "8ae4fa95-002c-446f-9872-fdafee2186bf",
   "metadata": {},
   "outputs": [],
   "source": [
    "import pickle\n",
    "import numpy as np"
   ]
  },
  {
   "cell_type": "code",
   "execution_count": 2,
   "id": "b17ed8b3-852a-43c0-a563-61a516762372",
   "metadata": {},
   "outputs": [],
   "source": [
    "model = pickle.load(open(\"xgb_model.pkl\", \"rb\"))\n",
    "scaler = pickle.load(open(\"scaler.pkl\", \"rb\"))\n",
    "selected_columns = pickle.load(open(\"selected_features.pkl\", \"rb\"))"
   ]
  },
  {
   "cell_type": "code",
   "execution_count": 3,
   "id": "cce3a852-6d47-42da-a350-2696c092569d",
   "metadata": {},
   "outputs": [
    {
     "name": "stdin",
     "output_type": "stream",
     "text": [
      "Cement: 550\n",
      "Slag: 276\n",
      "Water: 300\n",
      "Superplasticizer: 4.1\n",
      "Age: 34\n"
     ]
    }
   ],
   "source": [
    "cement_input=float(input(\"Cement:\"))\n",
    "slag_input=float(input(\"Slag:\"))\n",
    "water_input=float(input(\"Water:\"))\n",
    "superplasticizer_input=float(input(\"Superplasticizer:\"))\n",
    "age_input=int(input(\"Age:\"))"
   ]
  },
  {
   "cell_type": "code",
   "execution_count": 4,
   "id": "bb1840fb-29f1-4449-9453-4a3d5724cc7a",
   "metadata": {},
   "outputs": [
    {
     "name": "stderr",
     "output_type": "stream",
     "text": [
      "C:\\Users\\Bagirathan\\anaconda3\\envs\\aiAI\\Lib\\site-packages\\sklearn\\base.py:493: UserWarning: X does not have valid feature names, but StandardScaler was fitted with feature names\n",
      "  warnings.warn(\n"
     ]
    }
   ],
   "source": [
    "preinput=scaler.transform([[cement_input,slag_input,water_input,superplasticizer_input,age_input]])"
   ]
  },
  {
   "cell_type": "code",
   "execution_count": 5,
   "id": "7c1a47c3-b9e4-4fd2-8152-8efef7956296",
   "metadata": {},
   "outputs": [],
   "source": [
    "load_model=pickle.load(open(\"CS_Pre.sav\", \"rb\"))\n",
    "result=load_model.predict(preinput)"
   ]
  },
  {
   "cell_type": "code",
   "execution_count": 6,
   "id": "0aaf45ea-c596-4511-846a-54149209dee3",
   "metadata": {},
   "outputs": [
    {
     "data": {
      "text/plain": [
       "array([65.506645], dtype=float32)"
      ]
     },
     "execution_count": 6,
     "metadata": {},
     "output_type": "execute_result"
    }
   ],
   "source": [
    "result"
   ]
  },
  {
   "cell_type": "code",
   "execution_count": null,
   "id": "d87d9f0c-abdd-4fb6-970e-3f5213c4a790",
   "metadata": {},
   "outputs": [],
   "source": []
  }
 ],
 "metadata": {
  "kernelspec": {
   "display_name": "Python 3 (ipykernel)",
   "language": "python",
   "name": "python3"
  },
  "language_info": {
   "codemirror_mode": {
    "name": "ipython",
    "version": 3
   },
   "file_extension": ".py",
   "mimetype": "text/x-python",
   "name": "python",
   "nbconvert_exporter": "python",
   "pygments_lexer": "ipython3",
   "version": "3.11.5"
  }
 },
 "nbformat": 4,
 "nbformat_minor": 5
}
